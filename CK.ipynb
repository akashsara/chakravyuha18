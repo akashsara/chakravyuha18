{
 "cells": [
  {
   "cell_type": "markdown",
   "metadata": {},
   "source": [
    "## Importing Stuff"
   ]
  },
  {
   "cell_type": "code",
   "execution_count": 37,
   "metadata": {
    "collapsed": true
   },
   "outputs": [],
   "source": [
    "import numpy as np\n",
    "import pandas as pd\n",
    "import matplotlib.pyplot as plt\n",
    "from time import time\n",
    "from sklearn.metrics import accuracy_score\n",
    "from sklearn import tree\n",
    "from sklearn import svm\n",
    "from sklearn.naive_bayes import GaussianNB\n",
    "from sklearn.model_selection import train_test_split"
   ]
  },
  {
   "cell_type": "markdown",
   "metadata": {},
   "source": [
    "## Loading the datasets"
   ]
  },
  {
   "cell_type": "code",
   "execution_count": 38,
   "metadata": {
    "collapsed": true
   },
   "outputs": [],
   "source": [
    "data_raw = pd.read_csv(\"datasets/TrainData.csv\", index_col=\"property_id\")\n",
    "data_validate = pd.read_csv(\"datasets/TestData.csv\", index_col=\"property_id\")\n",
    "data_sample = pd.read_csv(\"datasets/Test - Sample Solution.csv\", index_col=\"property_id\")\n",
    "data_dict = pd.read_csv(\"datasets/Data Dictionary.csv\")"
   ]
  },
  {
   "cell_type": "markdown",
   "metadata": {},
   "source": [
    "## Exploring the dataset"
   ]
  },
  {
   "cell_type": "code",
   "execution_count": 39,
   "metadata": {},
   "outputs": [
    {
     "data": {
      "text/html": [
       "<div>\n",
       "<style>\n",
       "    .dataframe thead tr:only-child th {\n",
       "        text-align: right;\n",
       "    }\n",
       "\n",
       "    .dataframe thead th {\n",
       "        text-align: left;\n",
       "    }\n",
       "\n",
       "    .dataframe tbody tr th {\n",
       "        vertical-align: top;\n",
       "    }\n",
       "</style>\n",
       "<table border=\"1\" class=\"dataframe\">\n",
       "  <thead>\n",
       "    <tr style=\"text-align: right;\">\n",
       "      <th></th>\n",
       "      <th>property_name</th>\n",
       "      <th>city</th>\n",
       "      <th>tier_city</th>\n",
       "      <th>hotel_star_rating</th>\n",
       "      <th>min_price</th>\n",
       "      <th>max_price</th>\n",
       "      <th>avg_price</th>\n",
       "      <th>rating_location</th>\n",
       "      <th>rating_hospitality</th>\n",
       "      <th>rating_facilities</th>\n",
       "      <th>rating_cleanliness</th>\n",
       "      <th>rating_value_for_money</th>\n",
       "      <th>rating_food</th>\n",
       "      <th>overall_review_count</th>\n",
       "      <th>overall_review_score</th>\n",
       "      <th>site_review_count</th>\n",
       "      <th>site_review_rating</th>\n",
       "      <th>value_segment</th>\n",
       "    </tr>\n",
       "    <tr>\n",
       "      <th>property_id</th>\n",
       "      <th></th>\n",
       "      <th></th>\n",
       "      <th></th>\n",
       "      <th></th>\n",
       "      <th></th>\n",
       "      <th></th>\n",
       "      <th></th>\n",
       "      <th></th>\n",
       "      <th></th>\n",
       "      <th></th>\n",
       "      <th></th>\n",
       "      <th></th>\n",
       "      <th></th>\n",
       "      <th></th>\n",
       "      <th></th>\n",
       "      <th></th>\n",
       "      <th></th>\n",
       "      <th></th>\n",
       "    </tr>\n",
       "  </thead>\n",
       "  <tbody>\n",
       "    <tr>\n",
       "      <th>ZRX12212</th>\n",
       "      <td>MARINA DESERT SAFARI</td>\n",
       "      <td>Ahmedabad</td>\n",
       "      <td>A</td>\n",
       "      <td>3</td>\n",
       "      <td>2576</td>\n",
       "      <td>3416</td>\n",
       "      <td>2996.0</td>\n",
       "      <td>2.8</td>\n",
       "      <td>4.0</td>\n",
       "      <td>1.9</td>\n",
       "      <td>1.8</td>\n",
       "      <td>4.6</td>\n",
       "      <td>3.1</td>\n",
       "      <td>1256</td>\n",
       "      <td>2.68</td>\n",
       "      <td>51</td>\n",
       "      <td>3.0</td>\n",
       "      <td>Standard</td>\n",
       "    </tr>\n",
       "    <tr>\n",
       "      <th>ZRX06352</th>\n",
       "      <td>Aura Hotel Malad</td>\n",
       "      <td>Kolkata</td>\n",
       "      <td>A1</td>\n",
       "      <td>3</td>\n",
       "      <td>2940</td>\n",
       "      <td>3760</td>\n",
       "      <td>3350.0</td>\n",
       "      <td>4.3</td>\n",
       "      <td>3.4</td>\n",
       "      <td>1.7</td>\n",
       "      <td>2.4</td>\n",
       "      <td>4.7</td>\n",
       "      <td>3.6</td>\n",
       "      <td>1063</td>\n",
       "      <td>2.60</td>\n",
       "      <td>115</td>\n",
       "      <td>2.7</td>\n",
       "      <td>Normal</td>\n",
       "    </tr>\n",
       "    <tr>\n",
       "      <th>ZRX05006</th>\n",
       "      <td>Hotel Narula</td>\n",
       "      <td>Jammu</td>\n",
       "      <td>B2</td>\n",
       "      <td>2</td>\n",
       "      <td>1114</td>\n",
       "      <td>1590</td>\n",
       "      <td>1352.0</td>\n",
       "      <td>3.6</td>\n",
       "      <td>2.2</td>\n",
       "      <td>3.0</td>\n",
       "      <td>4.6</td>\n",
       "      <td>1.7</td>\n",
       "      <td>3.6</td>\n",
       "      <td>1503</td>\n",
       "      <td>2.42</td>\n",
       "      <td>587</td>\n",
       "      <td>1.2</td>\n",
       "      <td>Normal</td>\n",
       "    </tr>\n",
       "    <tr>\n",
       "      <th>ZRX11525</th>\n",
       "      <td>FabHotel  Legacy Brigade Road</td>\n",
       "      <td>Varanasi</td>\n",
       "      <td>B1</td>\n",
       "      <td>3</td>\n",
       "      <td>2267</td>\n",
       "      <td>2962</td>\n",
       "      <td>2614.5</td>\n",
       "      <td>1.2</td>\n",
       "      <td>2.1</td>\n",
       "      <td>1.2</td>\n",
       "      <td>3.8</td>\n",
       "      <td>4.8</td>\n",
       "      <td>3.5</td>\n",
       "      <td>1468</td>\n",
       "      <td>2.69</td>\n",
       "      <td>383</td>\n",
       "      <td>2.2</td>\n",
       "      <td>Super Value Plus</td>\n",
       "    </tr>\n",
       "    <tr>\n",
       "      <th>ZRX00386</th>\n",
       "      <td>Hotel Majha</td>\n",
       "      <td>Surat</td>\n",
       "      <td>A</td>\n",
       "      <td>1</td>\n",
       "      <td>1276</td>\n",
       "      <td>1647</td>\n",
       "      <td>1461.5</td>\n",
       "      <td>2.1</td>\n",
       "      <td>4.6</td>\n",
       "      <td>1.7</td>\n",
       "      <td>4.3</td>\n",
       "      <td>2.8</td>\n",
       "      <td>3.1</td>\n",
       "      <td>1361</td>\n",
       "      <td>2.56</td>\n",
       "      <td>59</td>\n",
       "      <td>3.7</td>\n",
       "      <td>Normal</td>\n",
       "    </tr>\n",
       "  </tbody>\n",
       "</table>\n",
       "</div>"
      ],
      "text/plain": [
       "                             property_name       city tier_city  \\\n",
       "property_id                                                       \n",
       "ZRX12212     MARINA DESERT SAFARI           Ahmedabad  A          \n",
       "ZRX06352     Aura Hotel Malad               Kolkata    A1         \n",
       "ZRX05006     Hotel Narula                   Jammu      B2         \n",
       "ZRX11525     FabHotel  Legacy Brigade Road  Varanasi   B1         \n",
       "ZRX00386     Hotel Majha                    Surat      A          \n",
       "\n",
       "             hotel_star_rating  min_price  max_price  avg_price  \\\n",
       "property_id                                                       \n",
       "ZRX12212     3                  2576       3416       2996.0      \n",
       "ZRX06352     3                  2940       3760       3350.0      \n",
       "ZRX05006     2                  1114       1590       1352.0      \n",
       "ZRX11525     3                  2267       2962       2614.5      \n",
       "ZRX00386     1                  1276       1647       1461.5      \n",
       "\n",
       "             rating_location  rating_hospitality  rating_facilities  \\\n",
       "property_id                                                           \n",
       "ZRX12212     2.8              4.0                 1.9                 \n",
       "ZRX06352     4.3              3.4                 1.7                 \n",
       "ZRX05006     3.6              2.2                 3.0                 \n",
       "ZRX11525     1.2              2.1                 1.2                 \n",
       "ZRX00386     2.1              4.6                 1.7                 \n",
       "\n",
       "             rating_cleanliness  rating_value_for_money  rating_food  \\\n",
       "property_id                                                            \n",
       "ZRX12212     1.8                 4.6                     3.1           \n",
       "ZRX06352     2.4                 4.7                     3.6           \n",
       "ZRX05006     4.6                 1.7                     3.6           \n",
       "ZRX11525     3.8                 4.8                     3.5           \n",
       "ZRX00386     4.3                 2.8                     3.1           \n",
       "\n",
       "             overall_review_count  overall_review_score  site_review_count  \\\n",
       "property_id                                                                  \n",
       "ZRX12212     1256                  2.68                  51                  \n",
       "ZRX06352     1063                  2.60                  115                 \n",
       "ZRX05006     1503                  2.42                  587                 \n",
       "ZRX11525     1468                  2.69                  383                 \n",
       "ZRX00386     1361                  2.56                  59                  \n",
       "\n",
       "             site_review_rating     value_segment  \n",
       "property_id                                        \n",
       "ZRX12212     3.0                 Standard          \n",
       "ZRX06352     2.7                 Normal            \n",
       "ZRX05006     1.2                 Normal            \n",
       "ZRX11525     2.2                 Super Value Plus  \n",
       "ZRX00386     3.7                 Normal            "
      ]
     },
     "execution_count": 39,
     "metadata": {},
     "output_type": "execute_result"
    }
   ],
   "source": [
    "data_raw.sample(5)"
   ]
  },
  {
   "cell_type": "code",
   "execution_count": 40,
   "metadata": {},
   "outputs": [
    {
     "data": {
      "text/html": [
       "<div>\n",
       "<style>\n",
       "    .dataframe thead tr:only-child th {\n",
       "        text-align: right;\n",
       "    }\n",
       "\n",
       "    .dataframe thead th {\n",
       "        text-align: left;\n",
       "    }\n",
       "\n",
       "    .dataframe tbody tr th {\n",
       "        vertical-align: top;\n",
       "    }\n",
       "</style>\n",
       "<table border=\"1\" class=\"dataframe\">\n",
       "  <thead>\n",
       "    <tr style=\"text-align: right;\">\n",
       "      <th></th>\n",
       "      <th>Column Header</th>\n",
       "      <th>Description</th>\n",
       "    </tr>\n",
       "  </thead>\n",
       "  <tbody>\n",
       "    <tr>\n",
       "      <th>0</th>\n",
       "      <td>property_id</td>\n",
       "      <td>Unique Identifier for each hotel [Character]</td>\n",
       "    </tr>\n",
       "    <tr>\n",
       "      <th>1</th>\n",
       "      <td>property_name</td>\n",
       "      <td>Name of the hotel [Character]</td>\n",
       "    </tr>\n",
       "    <tr>\n",
       "      <th>2</th>\n",
       "      <td>city</td>\n",
       "      <td>City in which the hotel is present [Character]</td>\n",
       "    </tr>\n",
       "    <tr>\n",
       "      <th>3</th>\n",
       "      <td>tier_city</td>\n",
       "      <td>What tier does the city belong to? [Categorical] Note: A1 &gt; A &gt; B1 &gt; B2</td>\n",
       "    </tr>\n",
       "    <tr>\n",
       "      <th>4</th>\n",
       "      <td>hotel_star_rating</td>\n",
       "      <td>The star rating of each hotel [Categorical] Note: 0 star-5 star</td>\n",
       "    </tr>\n",
       "    <tr>\n",
       "      <th>5</th>\n",
       "      <td>min_price</td>\n",
       "      <td>Minimum tariff for the hotel [Numeric]</td>\n",
       "    </tr>\n",
       "    <tr>\n",
       "      <th>6</th>\n",
       "      <td>max_price</td>\n",
       "      <td>Maximum tariff for the hotel [Numeric]</td>\n",
       "    </tr>\n",
       "    <tr>\n",
       "      <th>7</th>\n",
       "      <td>avg_price</td>\n",
       "      <td>Average tariff for the hotel [Numeric]</td>\n",
       "    </tr>\n",
       "    <tr>\n",
       "      <th>8</th>\n",
       "      <td>rating_location</td>\n",
       "      <td>Average rating (out of 5) for the location of the hotel [Numeric]</td>\n",
       "    </tr>\n",
       "    <tr>\n",
       "      <th>9</th>\n",
       "      <td>rating_hospitality</td>\n",
       "      <td>Average rating (out of 5) for the hospitality at the hotel [Numeric]</td>\n",
       "    </tr>\n",
       "    <tr>\n",
       "      <th>10</th>\n",
       "      <td>rating_facilities</td>\n",
       "      <td>Average rating (out of 5) for the facilities available [Numeric]</td>\n",
       "    </tr>\n",
       "    <tr>\n",
       "      <th>11</th>\n",
       "      <td>rating_cleanliness</td>\n",
       "      <td>Average rating (out of 5) for how clean the hotel is [Numeric]</td>\n",
       "    </tr>\n",
       "    <tr>\n",
       "      <th>12</th>\n",
       "      <td>rating_value_for_money</td>\n",
       "      <td>Average rating (out of 5) as to whether the hotel provides value for money or not [Numeric]</td>\n",
       "    </tr>\n",
       "    <tr>\n",
       "      <th>13</th>\n",
       "      <td>rating_food</td>\n",
       "      <td>Average rating (out of 5) for the food served [Numeric]</td>\n",
       "    </tr>\n",
       "    <tr>\n",
       "      <th>14</th>\n",
       "      <td>overall_review_count</td>\n",
       "      <td>Number of reviews for the hotel [Numeric]</td>\n",
       "    </tr>\n",
       "    <tr>\n",
       "      <th>15</th>\n",
       "      <td>overall_review_score</td>\n",
       "      <td>Average review score (out of 5) for the hotel [Numeric]</td>\n",
       "    </tr>\n",
       "    <tr>\n",
       "      <th>16</th>\n",
       "      <td>site_review_count</td>\n",
       "      <td>Number of ratings the hotel has received on website [Numeric]</td>\n",
       "    </tr>\n",
       "    <tr>\n",
       "      <th>17</th>\n",
       "      <td>site_review_rating</td>\n",
       "      <td>Average rating for the hotel on website [Numeric]</td>\n",
       "    </tr>\n",
       "    <tr>\n",
       "      <th>18</th>\n",
       "      <td>value_segment</td>\n",
       "      <td>Final value segment which the hotel belongs to [Categorical]</td>\n",
       "    </tr>\n",
       "  </tbody>\n",
       "</table>\n",
       "</div>"
      ],
      "text/plain": [
       "             Column Header  \\\n",
       "0   property_id              \n",
       "1   property_name            \n",
       "2   city                     \n",
       "3   tier_city                \n",
       "4   hotel_star_rating        \n",
       "5   min_price                \n",
       "6   max_price                \n",
       "7   avg_price                \n",
       "8   rating_location          \n",
       "9   rating_hospitality       \n",
       "10  rating_facilities        \n",
       "11  rating_cleanliness       \n",
       "12  rating_value_for_money   \n",
       "13  rating_food              \n",
       "14  overall_review_count     \n",
       "15  overall_review_score     \n",
       "16  site_review_count        \n",
       "17  site_review_rating       \n",
       "18  value_segment            \n",
       "\n",
       "                                                                                    Description  \n",
       "0   Unique Identifier for each hotel [Character]                                                 \n",
       "1   Name of the hotel [Character]                                                                \n",
       "2   City in which the hotel is present [Character]                                               \n",
       "3   What tier does the city belong to? [Categorical] Note: A1 > A > B1 > B2                      \n",
       "4   The star rating of each hotel [Categorical] Note: 0 star-5 star                              \n",
       "5   Minimum tariff for the hotel [Numeric]                                                       \n",
       "6   Maximum tariff for the hotel [Numeric]                                                       \n",
       "7   Average tariff for the hotel [Numeric]                                                       \n",
       "8   Average rating (out of 5) for the location of the hotel [Numeric]                            \n",
       "9   Average rating (out of 5) for the hospitality at the hotel [Numeric]                         \n",
       "10  Average rating (out of 5) for the facilities available [Numeric]                             \n",
       "11  Average rating (out of 5) for how clean the hotel is [Numeric]                               \n",
       "12  Average rating (out of 5) as to whether the hotel provides value for money or not [Numeric]  \n",
       "13  Average rating (out of 5) for the food served [Numeric]                                      \n",
       "14  Number of reviews for the hotel [Numeric]                                                    \n",
       "15  Average review score (out of 5) for the hotel [Numeric]                                      \n",
       "16  Number of ratings the hotel has received on website [Numeric]                                \n",
       "17  Average rating for the hotel on website [Numeric]                                            \n",
       "18  Final value segment which the hotel belongs to [Categorical]                                 "
      ]
     },
     "execution_count": 40,
     "metadata": {},
     "output_type": "execute_result"
    }
   ],
   "source": [
    "pd.set_option('display.max_colwidth', -1)\n",
    "data_dict"
   ]
  },
  {
   "cell_type": "markdown",
   "metadata": {},
   "source": [
    "Right off the bat, value_segment is going to be our labels AKA what our algorithm will predict. \n",
    "\n",
    "Then we have some identification details namely the property_id and the property_name.\n",
    "\n",
    "Since we have the tier of the city, the name of the city itself will not be needed. While the name of the hotel might affect a person's rating, we're gonna have to ignore it because I don't have enough knowledge. :P\n",
    "\n",
    "The remaining data is either categorical and thus can be converted to a numeric data or it is already numeric.\n",
    "\n",
    "Since the average price is already calculated, we shall ignore the minimum and maximum prices."
   ]
  },
  {
   "cell_type": "code",
   "execution_count": 41,
   "metadata": {},
   "outputs": [
    {
     "data": {
      "text/plain": [
       "property_name             0\n",
       "city                      0\n",
       "tier_city                 0\n",
       "hotel_star_rating         0\n",
       "min_price                 0\n",
       "max_price                 0\n",
       "avg_price                 0\n",
       "rating_location           0\n",
       "rating_hospitality        0\n",
       "rating_facilities         0\n",
       "rating_cleanliness        0\n",
       "rating_value_for_money    0\n",
       "rating_food               0\n",
       "overall_review_count      0\n",
       "overall_review_score      0\n",
       "site_review_count         0\n",
       "site_review_rating        0\n",
       "value_segment             0\n",
       "dtype: int64"
      ]
     },
     "execution_count": 41,
     "metadata": {},
     "output_type": "execute_result"
    }
   ],
   "source": [
    "data_raw.isnull().sum()"
   ]
  },
  {
   "cell_type": "markdown",
   "metadata": {},
   "source": [
    "There are no null values in this dataset. "
   ]
  },
  {
   "cell_type": "code",
   "execution_count": 42,
   "metadata": {
    "collapsed": true
   },
   "outputs": [
    {
     "data": {
      "text/html": [
       "<div>\n",
       "<style>\n",
       "    .dataframe thead tr:only-child th {\n",
       "        text-align: right;\n",
       "    }\n",
       "\n",
       "    .dataframe thead th {\n",
       "        text-align: left;\n",
       "    }\n",
       "\n",
       "    .dataframe tbody tr th {\n",
       "        vertical-align: top;\n",
       "    }\n",
       "</style>\n",
       "<table border=\"1\" class=\"dataframe\">\n",
       "  <thead>\n",
       "    <tr style=\"text-align: right;\">\n",
       "      <th></th>\n",
       "      <th>property_name</th>\n",
       "      <th>city</th>\n",
       "      <th>tier_city</th>\n",
       "      <th>hotel_star_rating</th>\n",
       "      <th>min_price</th>\n",
       "      <th>max_price</th>\n",
       "      <th>avg_price</th>\n",
       "      <th>rating_location</th>\n",
       "      <th>rating_hospitality</th>\n",
       "      <th>rating_facilities</th>\n",
       "      <th>rating_cleanliness</th>\n",
       "      <th>rating_value_for_money</th>\n",
       "      <th>rating_food</th>\n",
       "      <th>overall_review_count</th>\n",
       "      <th>overall_review_score</th>\n",
       "      <th>site_review_count</th>\n",
       "      <th>site_review_rating</th>\n",
       "      <th>value_segment</th>\n",
       "    </tr>\n",
       "  </thead>\n",
       "  <tbody>\n",
       "    <tr>\n",
       "      <th>count</th>\n",
       "      <td>14991</td>\n",
       "      <td>14991</td>\n",
       "      <td>14991</td>\n",
       "      <td>14991.000000</td>\n",
       "      <td>14991.000000</td>\n",
       "      <td>14991.000000</td>\n",
       "      <td>14991.000000</td>\n",
       "      <td>14991.000000</td>\n",
       "      <td>14991.000000</td>\n",
       "      <td>14991.000000</td>\n",
       "      <td>14991.000000</td>\n",
       "      <td>14991.000000</td>\n",
       "      <td>14991.000000</td>\n",
       "      <td>14991.000000</td>\n",
       "      <td>14991.000000</td>\n",
       "      <td>14991.000000</td>\n",
       "      <td>14991.000000</td>\n",
       "      <td>14991</td>\n",
       "    </tr>\n",
       "    <tr>\n",
       "      <th>unique</th>\n",
       "      <td>11184</td>\n",
       "      <td>76</td>\n",
       "      <td>4</td>\n",
       "      <td>NaN</td>\n",
       "      <td>NaN</td>\n",
       "      <td>NaN</td>\n",
       "      <td>NaN</td>\n",
       "      <td>NaN</td>\n",
       "      <td>NaN</td>\n",
       "      <td>NaN</td>\n",
       "      <td>NaN</td>\n",
       "      <td>NaN</td>\n",
       "      <td>NaN</td>\n",
       "      <td>NaN</td>\n",
       "      <td>NaN</td>\n",
       "      <td>NaN</td>\n",
       "      <td>NaN</td>\n",
       "      <td>5</td>\n",
       "    </tr>\n",
       "    <tr>\n",
       "      <th>top</th>\n",
       "      <td>Hotel President</td>\n",
       "      <td>Gwalior</td>\n",
       "      <td>B2</td>\n",
       "      <td>NaN</td>\n",
       "      <td>NaN</td>\n",
       "      <td>NaN</td>\n",
       "      <td>NaN</td>\n",
       "      <td>NaN</td>\n",
       "      <td>NaN</td>\n",
       "      <td>NaN</td>\n",
       "      <td>NaN</td>\n",
       "      <td>NaN</td>\n",
       "      <td>NaN</td>\n",
       "      <td>NaN</td>\n",
       "      <td>NaN</td>\n",
       "      <td>NaN</td>\n",
       "      <td>NaN</td>\n",
       "      <td>Normal</td>\n",
       "    </tr>\n",
       "    <tr>\n",
       "      <th>freq</th>\n",
       "      <td>18</td>\n",
       "      <td>230</td>\n",
       "      <td>6898</td>\n",
       "      <td>NaN</td>\n",
       "      <td>NaN</td>\n",
       "      <td>NaN</td>\n",
       "      <td>NaN</td>\n",
       "      <td>NaN</td>\n",
       "      <td>NaN</td>\n",
       "      <td>NaN</td>\n",
       "      <td>NaN</td>\n",
       "      <td>NaN</td>\n",
       "      <td>NaN</td>\n",
       "      <td>NaN</td>\n",
       "      <td>NaN</td>\n",
       "      <td>NaN</td>\n",
       "      <td>NaN</td>\n",
       "      <td>3804</td>\n",
       "    </tr>\n",
       "    <tr>\n",
       "      <th>mean</th>\n",
       "      <td>NaN</td>\n",
       "      <td>NaN</td>\n",
       "      <td>NaN</td>\n",
       "      <td>1.824094</td>\n",
       "      <td>1572.163565</td>\n",
       "      <td>2045.603095</td>\n",
       "      <td>1808.883330</td>\n",
       "      <td>3.008532</td>\n",
       "      <td>2.987092</td>\n",
       "      <td>3.000067</td>\n",
       "      <td>3.025115</td>\n",
       "      <td>2.995477</td>\n",
       "      <td>3.010706</td>\n",
       "      <td>1250.195784</td>\n",
       "      <td>3.001412</td>\n",
       "      <td>316.157961</td>\n",
       "      <td>2.990127</td>\n",
       "      <td>NaN</td>\n",
       "    </tr>\n",
       "    <tr>\n",
       "      <th>std</th>\n",
       "      <td>NaN</td>\n",
       "      <td>NaN</td>\n",
       "      <td>NaN</td>\n",
       "      <td>1.090903</td>\n",
       "      <td>976.743578</td>\n",
       "      <td>1405.212498</td>\n",
       "      <td>1181.577229</td>\n",
       "      <td>1.156683</td>\n",
       "      <td>1.153252</td>\n",
       "      <td>1.150769</td>\n",
       "      <td>1.158748</td>\n",
       "      <td>1.159337</td>\n",
       "      <td>1.159539</td>\n",
       "      <td>322.617578</td>\n",
       "      <td>0.398412</td>\n",
       "      <td>204.836797</td>\n",
       "      <td>1.159166</td>\n",
       "      <td>NaN</td>\n",
       "    </tr>\n",
       "    <tr>\n",
       "      <th>min</th>\n",
       "      <td>NaN</td>\n",
       "      <td>NaN</td>\n",
       "      <td>NaN</td>\n",
       "      <td>0.000000</td>\n",
       "      <td>430.000000</td>\n",
       "      <td>611.000000</td>\n",
       "      <td>520.500000</td>\n",
       "      <td>1.000000</td>\n",
       "      <td>1.000000</td>\n",
       "      <td>1.000000</td>\n",
       "      <td>1.000000</td>\n",
       "      <td>1.000000</td>\n",
       "      <td>1.000000</td>\n",
       "      <td>186.000000</td>\n",
       "      <td>1.440000</td>\n",
       "      <td>0.000000</td>\n",
       "      <td>1.000000</td>\n",
       "      <td>NaN</td>\n",
       "    </tr>\n",
       "    <tr>\n",
       "      <th>25%</th>\n",
       "      <td>NaN</td>\n",
       "      <td>NaN</td>\n",
       "      <td>NaN</td>\n",
       "      <td>1.000000</td>\n",
       "      <td>931.000000</td>\n",
       "      <td>1190.000000</td>\n",
       "      <td>1054.000000</td>\n",
       "      <td>2.000000</td>\n",
       "      <td>2.000000</td>\n",
       "      <td>2.000000</td>\n",
       "      <td>2.000000</td>\n",
       "      <td>2.000000</td>\n",
       "      <td>2.000000</td>\n",
       "      <td>1028.000000</td>\n",
       "      <td>2.740000</td>\n",
       "      <td>144.000000</td>\n",
       "      <td>2.000000</td>\n",
       "      <td>NaN</td>\n",
       "    </tr>\n",
       "    <tr>\n",
       "      <th>50%</th>\n",
       "      <td>NaN</td>\n",
       "      <td>NaN</td>\n",
       "      <td>NaN</td>\n",
       "      <td>1.000000</td>\n",
       "      <td>1323.000000</td>\n",
       "      <td>1644.000000</td>\n",
       "      <td>1485.000000</td>\n",
       "      <td>3.000000</td>\n",
       "      <td>3.000000</td>\n",
       "      <td>3.000000</td>\n",
       "      <td>3.000000</td>\n",
       "      <td>3.000000</td>\n",
       "      <td>3.000000</td>\n",
       "      <td>1250.000000</td>\n",
       "      <td>3.000000</td>\n",
       "      <td>295.000000</td>\n",
       "      <td>3.000000</td>\n",
       "      <td>NaN</td>\n",
       "    </tr>\n",
       "    <tr>\n",
       "      <th>75%</th>\n",
       "      <td>NaN</td>\n",
       "      <td>NaN</td>\n",
       "      <td>NaN</td>\n",
       "      <td>3.000000</td>\n",
       "      <td>1863.000000</td>\n",
       "      <td>2280.500000</td>\n",
       "      <td>2053.000000</td>\n",
       "      <td>4.000000</td>\n",
       "      <td>4.000000</td>\n",
       "      <td>4.000000</td>\n",
       "      <td>4.000000</td>\n",
       "      <td>4.000000</td>\n",
       "      <td>4.000000</td>\n",
       "      <td>1469.000000</td>\n",
       "      <td>3.260000</td>\n",
       "      <td>460.000000</td>\n",
       "      <td>4.000000</td>\n",
       "      <td>NaN</td>\n",
       "    </tr>\n",
       "    <tr>\n",
       "      <th>max</th>\n",
       "      <td>NaN</td>\n",
       "      <td>NaN</td>\n",
       "      <td>NaN</td>\n",
       "      <td>5.000000</td>\n",
       "      <td>10712.000000</td>\n",
       "      <td>17985.000000</td>\n",
       "      <td>14188.000000</td>\n",
       "      <td>5.000000</td>\n",
       "      <td>5.000000</td>\n",
       "      <td>5.000000</td>\n",
       "      <td>5.000000</td>\n",
       "      <td>5.000000</td>\n",
       "      <td>5.000000</td>\n",
       "      <td>2347.000000</td>\n",
       "      <td>4.500000</td>\n",
       "      <td>1104.000000</td>\n",
       "      <td>5.000000</td>\n",
       "      <td>NaN</td>\n",
       "    </tr>\n",
       "  </tbody>\n",
       "</table>\n",
       "</div>"
      ],
      "text/plain": [
       "          property_name     city tier_city  hotel_star_rating     min_price  \\\n",
       "count   14991            14991    14991     14991.000000       14991.000000   \n",
       "unique  11184            76       4        NaN                NaN             \n",
       "top     Hotel President  Gwalior  B2       NaN                NaN             \n",
       "freq    18               230      6898     NaN                NaN             \n",
       "mean    NaN              NaN      NaN       1.824094           1572.163565    \n",
       "std     NaN              NaN      NaN       1.090903           976.743578     \n",
       "min     NaN              NaN      NaN       0.000000           430.000000     \n",
       "25%     NaN              NaN      NaN       1.000000           931.000000     \n",
       "50%     NaN              NaN      NaN       1.000000           1323.000000    \n",
       "75%     NaN              NaN      NaN       3.000000           1863.000000    \n",
       "max     NaN              NaN      NaN       5.000000           10712.000000   \n",
       "\n",
       "           max_price     avg_price  rating_location  rating_hospitality  \\\n",
       "count   14991.000000  14991.000000  14991.000000     14991.000000         \n",
       "unique NaN           NaN           NaN              NaN                   \n",
       "top    NaN           NaN           NaN              NaN                   \n",
       "freq   NaN           NaN           NaN              NaN                   \n",
       "mean    2045.603095   1808.883330   3.008532         2.987092             \n",
       "std     1405.212498   1181.577229   1.156683         1.153252             \n",
       "min     611.000000    520.500000    1.000000         1.000000             \n",
       "25%     1190.000000   1054.000000   2.000000         2.000000             \n",
       "50%     1644.000000   1485.000000   3.000000         3.000000             \n",
       "75%     2280.500000   2053.000000   4.000000         4.000000             \n",
       "max     17985.000000  14188.000000  5.000000         5.000000             \n",
       "\n",
       "        rating_facilities  rating_cleanliness  rating_value_for_money  \\\n",
       "count   14991.000000       14991.000000        14991.000000             \n",
       "unique NaN                NaN                 NaN                       \n",
       "top    NaN                NaN                 NaN                       \n",
       "freq   NaN                NaN                 NaN                       \n",
       "mean    3.000067           3.025115            2.995477                 \n",
       "std     1.150769           1.158748            1.159337                 \n",
       "min     1.000000           1.000000            1.000000                 \n",
       "25%     2.000000           2.000000            2.000000                 \n",
       "50%     3.000000           3.000000            3.000000                 \n",
       "75%     4.000000           4.000000            4.000000                 \n",
       "max     5.000000           5.000000            5.000000                 \n",
       "\n",
       "         rating_food  overall_review_count  overall_review_score  \\\n",
       "count   14991.000000  14991.000000          14991.000000           \n",
       "unique NaN           NaN                   NaN                     \n",
       "top    NaN           NaN                   NaN                     \n",
       "freq   NaN           NaN                   NaN                     \n",
       "mean    3.010706      1250.195784           3.001412               \n",
       "std     1.159539      322.617578            0.398412               \n",
       "min     1.000000      186.000000            1.440000               \n",
       "25%     2.000000      1028.000000           2.740000               \n",
       "50%     3.000000      1250.000000           3.000000               \n",
       "75%     4.000000      1469.000000           3.260000               \n",
       "max     5.000000      2347.000000           4.500000               \n",
       "\n",
       "        site_review_count  site_review_rating value_segment  \n",
       "count   14991.000000       14991.000000        14991         \n",
       "unique NaN                NaN                  5             \n",
       "top    NaN                NaN                  Normal        \n",
       "freq   NaN                NaN                  3804          \n",
       "mean    316.157961         2.990127            NaN           \n",
       "std     204.836797         1.159166            NaN           \n",
       "min     0.000000           1.000000            NaN           \n",
       "25%     144.000000         2.000000            NaN           \n",
       "50%     295.000000         3.000000            NaN           \n",
       "75%     460.000000         4.000000            NaN           \n",
       "max     1104.000000        5.000000            NaN           "
      ]
     },
     "execution_count": 42,
     "metadata": {},
     "output_type": "execute_result"
    }
   ],
   "source": [
    "data_raw.describe(include='all')"
   ]
  },
  {
   "cell_type": "code",
   "execution_count": 43,
   "metadata": {},
   "outputs": [
    {
     "data": {
      "text/plain": [
       "Normal              3804\n",
       "Value               2993\n",
       "Standard            2993\n",
       "Value Plus          2986\n",
       "Super Value Plus    2215\n",
       "Name: value_segment, dtype: int64"
      ]
     },
     "execution_count": 43,
     "metadata": {},
     "output_type": "execute_result"
    }
   ],
   "source": [
    "data_raw['value_segment'].value_counts()"
   ]
  },
  {
   "cell_type": "markdown",
   "metadata": {},
   "source": [
    "## Cleaning the data"
   ]
  },
  {
   "cell_type": "markdown",
   "metadata": {},
   "source": [
    "Since there are no null values, there is no need of imputation. Instead we can simply get rid of the columns we don't need, namely property_name and city and then convert the categorical values into numerical values."
   ]
  },
  {
   "cell_type": "code",
   "execution_count": 44,
   "metadata": {
    "collapsed": true
   },
   "outputs": [],
   "source": [
    "# For easier cleaning\n",
    "data_cleaner = [data_raw, data_validate]"
   ]
  },
  {
   "cell_type": "code",
   "execution_count": 45,
   "metadata": {},
   "outputs": [
    {
     "name": "stderr",
     "output_type": "stream",
     "text": [
      "C:\\Users\\akash\\Anaconda3\\lib\\site-packages\\pandas\\core\\indexing.py:179: SettingWithCopyWarning: \n",
      "A value is trying to be set on a copy of a slice from a DataFrame\n",
      "\n",
      "See the caveats in the documentation: http://pandas.pydata.org/pandas-docs/stable/indexing.html#indexing-view-versus-copy\n",
      "  self._setitem_with_indexer(indexer, value)\n"
     ]
    }
   ],
   "source": [
    "for dataset in data_cleaner:\n",
    "    dataset['tier_city'].loc[dataset['tier_city'] == 'B2'] = 0\n",
    "    dataset['tier_city'].loc[dataset['tier_city'] == 'B1'] = 1\n",
    "    dataset['tier_city'].loc[dataset['tier_city'] == 'A'] = 2\n",
    "    dataset['tier_city'].loc[dataset['tier_city'] == 'A1'] = 3\n",
    "    dataset.drop(['property_name', 'city', 'min_price', 'max_price'], axis=1, inplace=True)"
   ]
  },
  {
   "cell_type": "code",
   "execution_count": 46,
   "metadata": {},
   "outputs": [
    {
     "data": {
      "text/html": [
       "<div>\n",
       "<style>\n",
       "    .dataframe thead tr:only-child th {\n",
       "        text-align: right;\n",
       "    }\n",
       "\n",
       "    .dataframe thead th {\n",
       "        text-align: left;\n",
       "    }\n",
       "\n",
       "    .dataframe tbody tr th {\n",
       "        vertical-align: top;\n",
       "    }\n",
       "</style>\n",
       "<table border=\"1\" class=\"dataframe\">\n",
       "  <thead>\n",
       "    <tr style=\"text-align: right;\">\n",
       "      <th></th>\n",
       "      <th>tier_city</th>\n",
       "      <th>hotel_star_rating</th>\n",
       "      <th>avg_price</th>\n",
       "      <th>rating_location</th>\n",
       "      <th>rating_hospitality</th>\n",
       "      <th>rating_facilities</th>\n",
       "      <th>rating_cleanliness</th>\n",
       "      <th>rating_value_for_money</th>\n",
       "      <th>rating_food</th>\n",
       "      <th>overall_review_count</th>\n",
       "      <th>overall_review_score</th>\n",
       "      <th>site_review_count</th>\n",
       "      <th>site_review_rating</th>\n",
       "      <th>value_segment</th>\n",
       "    </tr>\n",
       "    <tr>\n",
       "      <th>property_id</th>\n",
       "      <th></th>\n",
       "      <th></th>\n",
       "      <th></th>\n",
       "      <th></th>\n",
       "      <th></th>\n",
       "      <th></th>\n",
       "      <th></th>\n",
       "      <th></th>\n",
       "      <th></th>\n",
       "      <th></th>\n",
       "      <th></th>\n",
       "      <th></th>\n",
       "      <th></th>\n",
       "      <th></th>\n",
       "    </tr>\n",
       "  </thead>\n",
       "  <tbody>\n",
       "    <tr>\n",
       "      <th>ZRX13388</th>\n",
       "      <td>0</td>\n",
       "      <td>3</td>\n",
       "      <td>1904.5</td>\n",
       "      <td>2.4</td>\n",
       "      <td>3.7</td>\n",
       "      <td>4.1</td>\n",
       "      <td>3.4</td>\n",
       "      <td>1.9</td>\n",
       "      <td>2.0</td>\n",
       "      <td>821</td>\n",
       "      <td>2.72</td>\n",
       "      <td>130</td>\n",
       "      <td>4.2</td>\n",
       "      <td>Normal</td>\n",
       "    </tr>\n",
       "    <tr>\n",
       "      <th>ZRX05160</th>\n",
       "      <td>2</td>\n",
       "      <td>3</td>\n",
       "      <td>3272.0</td>\n",
       "      <td>1.4</td>\n",
       "      <td>4.5</td>\n",
       "      <td>4.5</td>\n",
       "      <td>4.5</td>\n",
       "      <td>4.8</td>\n",
       "      <td>2.5</td>\n",
       "      <td>913</td>\n",
       "      <td>3.28</td>\n",
       "      <td>397</td>\n",
       "      <td>1.0</td>\n",
       "      <td>Super Value Plus</td>\n",
       "    </tr>\n",
       "    <tr>\n",
       "      <th>ZRX12169</th>\n",
       "      <td>0</td>\n",
       "      <td>1</td>\n",
       "      <td>1029.0</td>\n",
       "      <td>3.7</td>\n",
       "      <td>2.3</td>\n",
       "      <td>4.8</td>\n",
       "      <td>1.6</td>\n",
       "      <td>2.3</td>\n",
       "      <td>1.3</td>\n",
       "      <td>1466</td>\n",
       "      <td>3.35</td>\n",
       "      <td>698</td>\n",
       "      <td>3.6</td>\n",
       "      <td>Super Value Plus</td>\n",
       "    </tr>\n",
       "    <tr>\n",
       "      <th>ZRX16938</th>\n",
       "      <td>2</td>\n",
       "      <td>1</td>\n",
       "      <td>1446.0</td>\n",
       "      <td>3.0</td>\n",
       "      <td>1.9</td>\n",
       "      <td>4.7</td>\n",
       "      <td>1.7</td>\n",
       "      <td>5.0</td>\n",
       "      <td>4.4</td>\n",
       "      <td>1197</td>\n",
       "      <td>3.14</td>\n",
       "      <td>190</td>\n",
       "      <td>3.7</td>\n",
       "      <td>Standard</td>\n",
       "    </tr>\n",
       "    <tr>\n",
       "      <th>ZRX02613</th>\n",
       "      <td>1</td>\n",
       "      <td>1</td>\n",
       "      <td>1096.5</td>\n",
       "      <td>1.1</td>\n",
       "      <td>3.6</td>\n",
       "      <td>4.8</td>\n",
       "      <td>4.0</td>\n",
       "      <td>2.6</td>\n",
       "      <td>1.2</td>\n",
       "      <td>957</td>\n",
       "      <td>3.16</td>\n",
       "      <td>265</td>\n",
       "      <td>1.8</td>\n",
       "      <td>Normal</td>\n",
       "    </tr>\n",
       "  </tbody>\n",
       "</table>\n",
       "</div>"
      ],
      "text/plain": [
       "            tier_city  hotel_star_rating  avg_price  rating_location  \\\n",
       "property_id                                                            \n",
       "ZRX13388     0         3                  1904.5     2.4               \n",
       "ZRX05160     2         3                  3272.0     1.4               \n",
       "ZRX12169     0         1                  1029.0     3.7               \n",
       "ZRX16938     2         1                  1446.0     3.0               \n",
       "ZRX02613     1         1                  1096.5     1.1               \n",
       "\n",
       "             rating_hospitality  rating_facilities  rating_cleanliness  \\\n",
       "property_id                                                              \n",
       "ZRX13388     3.7                 4.1                3.4                  \n",
       "ZRX05160     4.5                 4.5                4.5                  \n",
       "ZRX12169     2.3                 4.8                1.6                  \n",
       "ZRX16938     1.9                 4.7                1.7                  \n",
       "ZRX02613     3.6                 4.8                4.0                  \n",
       "\n",
       "             rating_value_for_money  rating_food  overall_review_count  \\\n",
       "property_id                                                              \n",
       "ZRX13388     1.9                     2.0          821                    \n",
       "ZRX05160     4.8                     2.5          913                    \n",
       "ZRX12169     2.3                     1.3          1466                   \n",
       "ZRX16938     5.0                     4.4          1197                   \n",
       "ZRX02613     2.6                     1.2          957                    \n",
       "\n",
       "             overall_review_score  site_review_count  site_review_rating  \\\n",
       "property_id                                                                \n",
       "ZRX13388     2.72                  130                4.2                  \n",
       "ZRX05160     3.28                  397                1.0                  \n",
       "ZRX12169     3.35                  698                3.6                  \n",
       "ZRX16938     3.14                  190                3.7                  \n",
       "ZRX02613     3.16                  265                1.8                  \n",
       "\n",
       "                value_segment  \n",
       "property_id                    \n",
       "ZRX13388     Normal            \n",
       "ZRX05160     Super Value Plus  \n",
       "ZRX12169     Super Value Plus  \n",
       "ZRX16938     Standard          \n",
       "ZRX02613     Normal            "
      ]
     },
     "execution_count": 46,
     "metadata": {},
     "output_type": "execute_result"
    }
   ],
   "source": [
    "data_cleaner[0].sample(5)"
   ]
  },
  {
   "cell_type": "markdown",
   "metadata": {},
   "source": [
    "Average price has a lot of varation. Same for the overall review counts and the site review counts. We shall divide them into blocks instead."
   ]
  },
  {
   "cell_type": "code",
   "execution_count": 47,
   "metadata": {
    "collapsed": true
   },
   "outputs": [],
   "source": [
    "for dataset in data_cleaner:\n",
    "    dataset['avg_price'] = pd.qcut(dataset['avg_price'], 5, [0, 1, 2, 3, 4])\n",
    "    dataset['overall_review_count'] = pd.cut(dataset['overall_review_count'], 5, labels=[0, 1, 2, 3, 4])\n",
    "    dataset['site_review_count'] = pd.cut(dataset['site_review_count'], 7, labels=[0, 1, 2, 3, 4, 5 ,6])"
   ]
  },
  {
   "cell_type": "code",
   "execution_count": 48,
   "metadata": {},
   "outputs": [
    {
     "data": {
      "text/html": [
       "<div>\n",
       "<style>\n",
       "    .dataframe thead tr:only-child th {\n",
       "        text-align: right;\n",
       "    }\n",
       "\n",
       "    .dataframe thead th {\n",
       "        text-align: left;\n",
       "    }\n",
       "\n",
       "    .dataframe tbody tr th {\n",
       "        vertical-align: top;\n",
       "    }\n",
       "</style>\n",
       "<table border=\"1\" class=\"dataframe\">\n",
       "  <thead>\n",
       "    <tr style=\"text-align: right;\">\n",
       "      <th></th>\n",
       "      <th>tier_city</th>\n",
       "      <th>hotel_star_rating</th>\n",
       "      <th>avg_price</th>\n",
       "      <th>rating_location</th>\n",
       "      <th>rating_hospitality</th>\n",
       "      <th>rating_facilities</th>\n",
       "      <th>rating_cleanliness</th>\n",
       "      <th>rating_value_for_money</th>\n",
       "      <th>rating_food</th>\n",
       "      <th>overall_review_count</th>\n",
       "      <th>overall_review_score</th>\n",
       "      <th>site_review_count</th>\n",
       "      <th>site_review_rating</th>\n",
       "      <th>value_segment</th>\n",
       "    </tr>\n",
       "    <tr>\n",
       "      <th>property_id</th>\n",
       "      <th></th>\n",
       "      <th></th>\n",
       "      <th></th>\n",
       "      <th></th>\n",
       "      <th></th>\n",
       "      <th></th>\n",
       "      <th></th>\n",
       "      <th></th>\n",
       "      <th></th>\n",
       "      <th></th>\n",
       "      <th></th>\n",
       "      <th></th>\n",
       "      <th></th>\n",
       "      <th></th>\n",
       "    </tr>\n",
       "  </thead>\n",
       "  <tbody>\n",
       "    <tr>\n",
       "      <th>ZRX00303</th>\n",
       "      <td>2</td>\n",
       "      <td>3</td>\n",
       "      <td>4</td>\n",
       "      <td>2.7</td>\n",
       "      <td>1.2</td>\n",
       "      <td>4.3</td>\n",
       "      <td>4.4</td>\n",
       "      <td>3.8</td>\n",
       "      <td>3.2</td>\n",
       "      <td>2</td>\n",
       "      <td>2.27</td>\n",
       "      <td>1</td>\n",
       "      <td>2.8</td>\n",
       "      <td>Standard</td>\n",
       "    </tr>\n",
       "    <tr>\n",
       "      <th>ZRX11148</th>\n",
       "      <td>0</td>\n",
       "      <td>1</td>\n",
       "      <td>1</td>\n",
       "      <td>2.1</td>\n",
       "      <td>3.0</td>\n",
       "      <td>3.4</td>\n",
       "      <td>2.8</td>\n",
       "      <td>3.1</td>\n",
       "      <td>4.3</td>\n",
       "      <td>3</td>\n",
       "      <td>2.33</td>\n",
       "      <td>0</td>\n",
       "      <td>4.1</td>\n",
       "      <td>Value Plus</td>\n",
       "    </tr>\n",
       "    <tr>\n",
       "      <th>ZRX04888</th>\n",
       "      <td>3</td>\n",
       "      <td>4</td>\n",
       "      <td>4</td>\n",
       "      <td>4.3</td>\n",
       "      <td>2.9</td>\n",
       "      <td>4.8</td>\n",
       "      <td>1.1</td>\n",
       "      <td>3.7</td>\n",
       "      <td>4.1</td>\n",
       "      <td>3</td>\n",
       "      <td>2.96</td>\n",
       "      <td>0</td>\n",
       "      <td>4.7</td>\n",
       "      <td>Normal</td>\n",
       "    </tr>\n",
       "    <tr>\n",
       "      <th>ZRX13364</th>\n",
       "      <td>0</td>\n",
       "      <td>1</td>\n",
       "      <td>0</td>\n",
       "      <td>2.7</td>\n",
       "      <td>3.4</td>\n",
       "      <td>1.6</td>\n",
       "      <td>3.4</td>\n",
       "      <td>3.5</td>\n",
       "      <td>4.2</td>\n",
       "      <td>3</td>\n",
       "      <td>3.42</td>\n",
       "      <td>1</td>\n",
       "      <td>5.0</td>\n",
       "      <td>Value Plus</td>\n",
       "    </tr>\n",
       "    <tr>\n",
       "      <th>ZRX15662</th>\n",
       "      <td>3</td>\n",
       "      <td>1</td>\n",
       "      <td>3</td>\n",
       "      <td>5.0</td>\n",
       "      <td>2.3</td>\n",
       "      <td>2.5</td>\n",
       "      <td>4.1</td>\n",
       "      <td>1.1</td>\n",
       "      <td>3.0</td>\n",
       "      <td>2</td>\n",
       "      <td>3.28</td>\n",
       "      <td>1</td>\n",
       "      <td>4.8</td>\n",
       "      <td>Value Plus</td>\n",
       "    </tr>\n",
       "  </tbody>\n",
       "</table>\n",
       "</div>"
      ],
      "text/plain": [
       "            tier_city  hotel_star_rating avg_price  rating_location  \\\n",
       "property_id                                                           \n",
       "ZRX00303     2         3                  4         2.7               \n",
       "ZRX11148     0         1                  1         2.1               \n",
       "ZRX04888     3         4                  4         4.3               \n",
       "ZRX13364     0         1                  0         2.7               \n",
       "ZRX15662     3         1                  3         5.0               \n",
       "\n",
       "             rating_hospitality  rating_facilities  rating_cleanliness  \\\n",
       "property_id                                                              \n",
       "ZRX00303     1.2                 4.3                4.4                  \n",
       "ZRX11148     3.0                 3.4                2.8                  \n",
       "ZRX04888     2.9                 4.8                1.1                  \n",
       "ZRX13364     3.4                 1.6                3.4                  \n",
       "ZRX15662     2.3                 2.5                4.1                  \n",
       "\n",
       "             rating_value_for_money  rating_food overall_review_count  \\\n",
       "property_id                                                             \n",
       "ZRX00303     3.8                     3.2          2                     \n",
       "ZRX11148     3.1                     4.3          3                     \n",
       "ZRX04888     3.7                     4.1          3                     \n",
       "ZRX13364     3.5                     4.2          3                     \n",
       "ZRX15662     1.1                     3.0          2                     \n",
       "\n",
       "             overall_review_score site_review_count  site_review_rating  \\\n",
       "property_id                                                               \n",
       "ZRX00303     2.27                  1                 2.8                  \n",
       "ZRX11148     2.33                  0                 4.1                  \n",
       "ZRX04888     2.96                  0                 4.7                  \n",
       "ZRX13364     3.42                  1                 5.0                  \n",
       "ZRX15662     3.28                  1                 4.8                  \n",
       "\n",
       "            value_segment  \n",
       "property_id                \n",
       "ZRX00303     Standard      \n",
       "ZRX11148     Value Plus    \n",
       "ZRX04888     Normal        \n",
       "ZRX13364     Value Plus    \n",
       "ZRX15662     Value Plus    "
      ]
     },
     "execution_count": 48,
     "metadata": {},
     "output_type": "execute_result"
    }
   ],
   "source": [
    "data_cleaner[0].sample(5)"
   ]
  },
  {
   "cell_type": "markdown",
   "metadata": {},
   "source": [
    "## Splitting data into features and labels and then into training and testing set"
   ]
  },
  {
   "cell_type": "code",
   "execution_count": 49,
   "metadata": {
    "collapsed": true
   },
   "outputs": [],
   "source": [
    "data_clean, data_validate = data_cleaner\n",
    "data_labels = data_clean['value_segment']\n",
    "data_features = data_clean.drop('value_segment', axis=1)"
   ]
  },
  {
   "cell_type": "code",
   "execution_count": 50,
   "metadata": {
    "collapsed": true
   },
   "outputs": [],
   "source": [
    "features_train, features_test, labels_train, labels_test = train_test_split(data_features, data_labels,\n",
    "                                                                            test_size=0.2, random_state=42)"
   ]
  },
  {
   "cell_type": "markdown",
   "metadata": {},
   "source": [
    "## Gaussian Naive-Bayes"
   ]
  },
  {
   "cell_type": "code",
   "execution_count": 51,
   "metadata": {
    "collapsed": true
   },
   "outputs": [],
   "source": [
    "nb_classifier = GaussianNB()"
   ]
  },
  {
   "cell_type": "code",
   "execution_count": 52,
   "metadata": {},
   "outputs": [
    {
     "name": "stdout",
     "output_type": "stream",
     "text": [
      "Training Time: 0.028064727783203125s.\n"
     ]
    }
   ],
   "source": [
    "t0 = time()\n",
    "nb_classifier.fit(features_train, labels_train)\n",
    "print(\"Training Time: \", time()-t0, \"s.\", sep='')"
   ]
  },
  {
   "cell_type": "code",
   "execution_count": 53,
   "metadata": {},
   "outputs": [
    {
     "name": "stdout",
     "output_type": "stream",
     "text": [
      "Testing Time: 0.0030410289764404297s.\n"
     ]
    }
   ],
   "source": [
    "t1 = time()\n",
    "nb_prediction = nb_classifier.predict(features_test)\n",
    "print(\"Testing Time: \", time()-t1, \"s.\", sep='')"
   ]
  },
  {
   "cell_type": "code",
   "execution_count": 54,
   "metadata": {},
   "outputs": [
    {
     "name": "stdout",
     "output_type": "stream",
     "text": [
      "Accuracy: 0.306102034011.\n"
     ]
    }
   ],
   "source": [
    "print(\"Accuracy: \", accuracy_score(labels_test, nb_prediction), \".\", sep='')"
   ]
  },
  {
   "cell_type": "code",
   "execution_count": 55,
   "metadata": {},
   "outputs": [],
   "source": [
    "data_validate.drop('value_segment', axis=1, inplace=True)"
   ]
  },
  {
   "cell_type": "code",
   "execution_count": 56,
   "metadata": {},
   "outputs": [
    {
     "name": "stdout",
     "output_type": "stream",
     "text": [
      "Testing Time: 0.006987571716308594s.\n"
     ]
    }
   ],
   "source": [
    "t1 = time()\n",
    "nb_prediction = nb_classifier.predict(data_validate)\n",
    "print(\"Testing Time: \", time()-t1, \"s.\", sep='')"
   ]
  },
  {
   "cell_type": "code",
   "execution_count": 57,
   "metadata": {},
   "outputs": [
    {
     "data": {
      "text/plain": [
       "Normal              2733\n",
       "Value Plus          1130\n",
       "Super Value Plus    825 \n",
       "Value               208 \n",
       "Standard            102 \n",
       "Name: value_segment, dtype: int64"
      ]
     },
     "execution_count": 57,
     "metadata": {},
     "output_type": "execute_result"
    }
   ],
   "source": [
    "data_sample['value_segment'] = nb_prediction\n",
    "data_sample.to_csv(\"solutions/nb-solution.csv\")\n",
    "data_sample['value_segment'].value_counts()"
   ]
  },
  {
   "cell_type": "markdown",
   "metadata": {},
   "source": [
    "## Support Vector Machine"
   ]
  },
  {
   "cell_type": "code",
   "execution_count": 31,
   "metadata": {
    "collapsed": true
   },
   "outputs": [],
   "source": [
    "svm_classifier = svm.SVC(kernel='rbf', C=10000, gamma=10.0)"
   ]
  },
  {
   "cell_type": "code",
   "execution_count": 32,
   "metadata": {},
   "outputs": [
    {
     "name": "stdout",
     "output_type": "stream",
     "text": [
      "Training Time: 10.123085975646973s.\n"
     ]
    }
   ],
   "source": [
    "t0 = time()\n",
    "svm_classifier.fit(features_train, labels_train)\n",
    "print(\"Training Time: \", time()-t0, \"s.\", sep='')"
   ]
  },
  {
   "cell_type": "code",
   "execution_count": 33,
   "metadata": {},
   "outputs": [
    {
     "name": "stdout",
     "output_type": "stream",
     "text": [
      "Testing Time: 0.9673519134521484s.\n"
     ]
    }
   ],
   "source": [
    "t1 = time()\n",
    "svm_prediction = svm_classifier.predict(features_test)\n",
    "print(\"Testing Time: \", time()-t1, \"s.\", sep='')"
   ]
  },
  {
   "cell_type": "code",
   "execution_count": 34,
   "metadata": {},
   "outputs": [
    {
     "name": "stdout",
     "output_type": "stream",
     "text": [
      "Accuracy: 0.261753917973.\n"
     ]
    }
   ],
   "source": [
    "print(\"Accuracy: \", accuracy_score(labels_test, svm_prediction), \".\", sep='')"
   ]
  },
  {
   "cell_type": "markdown",
   "metadata": {},
   "source": [
    "## Decision Tree"
   ]
  },
  {
   "cell_type": "code",
   "execution_count": 59,
   "metadata": {
    "collapsed": true
   },
   "outputs": [],
   "source": [
    "dt_classifier = tree.DecisionTreeClassifier(criterion='entropy', min_samples_split=400)"
   ]
  },
  {
   "cell_type": "code",
   "execution_count": 60,
   "metadata": {},
   "outputs": [
    {
     "name": "stdout",
     "output_type": "stream",
     "text": [
      "Training Time: 0.057875633239746094s.\n"
     ]
    }
   ],
   "source": [
    "t0 = time()\n",
    "dt_classifier.fit(features_train, labels_train)\n",
    "print(\"Training Time: \", time()-t0, \"s.\", sep='')"
   ]
  },
  {
   "cell_type": "code",
   "execution_count": 61,
   "metadata": {},
   "outputs": [
    {
     "name": "stdout",
     "output_type": "stream",
     "text": [
      "Testing Time: 0.0035316944122314453s.\n"
     ]
    }
   ],
   "source": [
    "t1 = time()\n",
    "dt_prediction = dt_classifier.predict(features_test)\n",
    "print(\"Testing Time: \", time()-t1, \"s.\", sep='')"
   ]
  },
  {
   "cell_type": "code",
   "execution_count": 62,
   "metadata": {},
   "outputs": [
    {
     "name": "stdout",
     "output_type": "stream",
     "text": [
      "Accuracy: 0.293097699233.\n"
     ]
    }
   ],
   "source": [
    "print(\"Accuracy: \", accuracy_score(labels_test, dt_prediction), \".\", sep='')"
   ]
  },
  {
   "cell_type": "code",
   "execution_count": 63,
   "metadata": {},
   "outputs": [
    {
     "name": "stdout",
     "output_type": "stream",
     "text": [
      "Testing Time: 0.0063037872314453125s.\n"
     ]
    }
   ],
   "source": [
    "t1 = time()\n",
    "dt_prediction = dt_classifier.predict(data_validate)\n",
    "print(\"Testing Time: \", time()-t1, \"s.\", sep='')"
   ]
  },
  {
   "cell_type": "code",
   "execution_count": 66,
   "metadata": {},
   "outputs": [
    {
     "data": {
      "text/plain": [
       "Normal              2287\n",
       "Super Value Plus    997 \n",
       "Value Plus          750 \n",
       "Standard            522 \n",
       "Value               442 \n",
       "Name: value_segment, dtype: int64"
      ]
     },
     "execution_count": 66,
     "metadata": {},
     "output_type": "execute_result"
    }
   ],
   "source": [
    "data_sample['value_segment'] = dt_prediction\n",
    "data_sample.to_csv(\"solutions/dt-solution.csv\")\n",
    "data_sample['value_segment'].value_counts()"
   ]
  },
  {
   "cell_type": "code",
   "execution_count": null,
   "metadata": {
    "collapsed": true
   },
   "outputs": [],
   "source": []
  }
 ],
 "metadata": {
  "kernelspec": {
   "display_name": "Python 3",
   "language": "python",
   "name": "python3"
  },
  "language_info": {
   "codemirror_mode": {
    "name": "ipython",
    "version": 3
   },
   "file_extension": ".py",
   "mimetype": "text/x-python",
   "name": "python",
   "nbconvert_exporter": "python",
   "pygments_lexer": "ipython3",
   "version": "3.6.3"
  }
 },
 "nbformat": 4,
 "nbformat_minor": 2
}
